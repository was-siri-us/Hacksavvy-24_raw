{
 "cells": [
  {
   "cell_type": "code",
   "execution_count": 1,
   "metadata": {},
   "outputs": [],
   "source": [
    "import torch\n",
    "import torchvision\n",
    "import torch.nn as nn\n",
    "import torch.backends.cudnn as cudnn\n",
    "import torch.optim as optim\n",
    "from torchvision.models import densenet121\n",
    "from torchvision import transforms\n",
    "from torch.utils.data import DataLoader\n",
    "from torch.utils.data import Dataset\n",
    "from PIL import Image\n",
    "import os\n",
    "import numpy as np\n",
    "\n",
    "from sklearn.metrics import roc_auc_score"
   ]
  },
  {
   "cell_type": "code",
   "execution_count": 2,
   "metadata": {},
   "outputs": [],
   "source": [
    "class ChestXrayDataSet(Dataset):\n",
    "    def __init__(self, data_dir, image_list_file, transform=None, num_samples=100):\n",
    "        image_names = []\n",
    "        labels = []\n",
    "        count = 0\n",
    "        with open(image_list_file, \"r\") as f:\n",
    "            for line in f:\n",
    "                if count >= num_samples:\n",
    "                    break\n",
    "                items = line.split()\n",
    "                image_name= items[0]\n",
    "                label = items[1:]\n",
    "                label = [int(i) for i in label]\n",
    "                image_name = os.path.join(data_dir, image_name)\n",
    "                image_names.append(image_name)\n",
    "                labels.append(label)\n",
    "                count += 1\n",
    "\n",
    "        self.image_names = image_names\n",
    "        self.labels = labels\n",
    "        self.transform = transform\n",
    "\n",
    "    def __getitem__(self, index):\n",
    "        \"\"\"\n",
    "        Args:\n",
    "            index: the index of item\n",
    "\n",
    "        Returns:\n",
    "            image and its labels\n",
    "        \"\"\"\n",
    "        image_name = self.image_names[index]\n",
    "        image = Image.open(image_name).convert('RGB')\n",
    "        label = self.labels[index]\n",
    "        if self.transform is not None:\n",
    "            image = self.transform(image)\n",
    "        return image, torch.FloatTensor(label)\n",
    "\n",
    "    def __len__(self):\n",
    "        return len(self.image_names)\n"
   ]
  },
  {
   "cell_type": "code",
   "execution_count": 3,
   "metadata": {},
   "outputs": [],
   "source": [
    "class DenseNet121(nn.Module):\n",
    "    def __init__(self, out_size):\n",
    "        super(DenseNet121, self).__init__()\n",
    "        self.densenet121 = torchvision.models.densenet121(pretrained=True)\n",
    "        num_ftrs = self.densenet121.classifier.in_features\n",
    "        self.densenet121.classifier = nn.Sequential(\n",
    "            nn.Linear(num_ftrs, out_size),\n",
    "            nn.Sigmoid()\n",
    "        )\n",
    "\n",
    "    def forward(self, x):\n",
    "        x = self.densenet121(x)\n",
    "        return x"
   ]
  },
  {
   "cell_type": "code",
   "execution_count": 4,
   "metadata": {},
   "outputs": [],
   "source": [
    "DATA_DIR = './ChestX-ray14/images'\n",
    "TRAIN_IMAGE_LIST = 'ChestX-ray14\\labels\\mytraine.txt'\n",
    "CKPT_PATH = 'myckpt.pth.tar'\n",
    "N_CLASSES = 14\n",
    "BATCH_SIZE = 8"
   ]
  },
  {
   "cell_type": "code",
   "execution_count": 5,
   "metadata": {},
   "outputs": [],
   "source": [
    "cudnn.benchmark = True"
   ]
  },
  {
   "cell_type": "code",
   "execution_count": 6,
   "metadata": {},
   "outputs": [
    {
     "name": "stderr",
     "output_type": "stream",
     "text": [
      "d:\\envs\\mgit2\\lib\\site-packages\\torchvision\\models\\_utils.py:208: UserWarning: The parameter 'pretrained' is deprecated since 0.13 and may be removed in the future, please use 'weights' instead.\n",
      "  warnings.warn(\n",
      "d:\\envs\\mgit2\\lib\\site-packages\\torchvision\\models\\_utils.py:223: UserWarning: Arguments other than a weight enum or `None` for 'weights' are deprecated since 0.13 and may be removed in the future. The current behavior is equivalent to passing `weights=DenseNet121_Weights.IMAGENET1K_V1`. You can also use `weights=DenseNet121_Weights.DEFAULT` to get the most up-to-date weights.\n",
      "  warnings.warn(msg)\n"
     ]
    },
    {
     "name": "stdout",
     "output_type": "stream",
     "text": [
      "=> no checkpoint found\n"
     ]
    }
   ],
   "source": [
    "# Initialize and load the model\n",
    "model = DenseNet121(N_CLASSES).cuda()\n",
    "model = torch.nn.DataParallel(model).cuda()\n",
    "\n",
    "if os.path.isfile(CKPT_PATH):\n",
    "    print(\"=> loading checkpoint\")\n",
    "    modelCheckpoint = torch.load(CKPT_PATH)['state_dict']\n",
    "    for k in list(modelCheckpoint.keys()):\n",
    "        index = k.rindex('.')\n",
    "        if (k[index - 1] == '1' or k[index - 1] == '2'):\n",
    "            modelCheckpoint[k[:index - 2] + k[index - 1:]] = modelCheckpoint[k]\n",
    "            del modelCheckpoint[k]\n",
    "    model.load_state_dict(modelCheckpoint)\n",
    "    print(\"=> loaded checkpoint\")\n",
    "else:\n",
    "    print(\"=> no checkpoint found\")"
   ]
  },
  {
   "cell_type": "code",
   "execution_count": 7,
   "metadata": {},
   "outputs": [],
   "source": [
    "normalize = transforms.Normalize([0.485, 0.456, 0.406],\n",
    "                                     [0.229, 0.224, 0.225])"
   ]
  },
  {
   "cell_type": "code",
   "execution_count": 8,
   "metadata": {},
   "outputs": [],
   "source": [
    "normalize = transforms.Normalize([0.485, 0.456, 0.406], [0.229, 0.224, 0.225])\n",
    "\n",
    "# Define transformations for training images\n",
    "train_transform = transforms.Compose([\n",
    "    transforms.Resize(256),\n",
    "    transforms.RandomCrop(224),\n",
    "    transforms.RandomHorizontalFlip(),\n",
    "    transforms.ToTensor(),\n",
    "    normalize\n",
    "])"
   ]
  },
  {
   "cell_type": "code",
   "execution_count": 12,
   "metadata": {},
   "outputs": [],
   "source": [
    "train_dataset = ChestXrayDataSet(data_dir=DATA_DIR, image_list_file=TRAIN_IMAGE_LIST, transform=train_transform)\n",
    "train_loader = DataLoader(dataset=train_dataset, batch_size=BATCH_SIZE, shuffle=True, num_workers=0, pin_memory=False)"
   ]
  },
  {
   "cell_type": "code",
   "execution_count": 13,
   "metadata": {},
   "outputs": [],
   "source": [
    "criterion = nn.BCELoss()\n",
    "optimizer = optim.Adam(model.parameters(), lr=0.001)"
   ]
  },
  {
   "cell_type": "code",
   "execution_count": 14,
   "metadata": {},
   "outputs": [
    {
     "name": "stdout",
     "output_type": "stream",
     "text": [
      "[1,    10] loss: 0.448\n",
      "[2,    10] loss: 0.327\n",
      "[3,    10] loss: 0.322\n",
      "[4,    10] loss: 0.269\n",
      "[5,    10] loss: 0.259\n",
      "[6,    10] loss: 0.240\n",
      "[7,    10] loss: 0.236\n",
      "[8,    10] loss: 0.191\n",
      "[9,    10] loss: 0.197\n",
      "[10,    10] loss: 0.186\n",
      "[11,    10] loss: 0.177\n",
      "[12,    10] loss: 0.173\n",
      "[13,    10] loss: 0.179\n",
      "[14,    10] loss: 0.140\n",
      "[15,    10] loss: 0.129\n",
      "[16,    10] loss: 0.106\n",
      "[17,    10] loss: 0.101\n",
      "[18,    10] loss: 0.081\n",
      "[19,    10] loss: 0.105\n",
      "[20,    10] loss: 0.114\n",
      "[21,    10] loss: 0.102\n",
      "[22,    10] loss: 0.110\n",
      "[23,    10] loss: 0.095\n",
      "[24,    10] loss: 0.068\n",
      "[25,    10] loss: 0.070\n",
      "[26,    10] loss: 0.085\n",
      "[27,    10] loss: 0.063\n",
      "[28,    10] loss: 0.071\n",
      "[29,    10] loss: 0.065\n",
      "[30,    10] loss: 0.075\n",
      "[31,    10] loss: 0.083\n",
      "[32,    10] loss: 0.065\n",
      "[33,    10] loss: 0.053\n",
      "[34,    10] loss: 0.050\n",
      "[35,    10] loss: 0.045\n",
      "[36,    10] loss: 0.048\n",
      "[37,    10] loss: 0.032\n",
      "[38,    10] loss: 0.039\n",
      "[39,    10] loss: 0.034\n",
      "[40,    10] loss: 0.048\n",
      "[41,    10] loss: 0.044\n",
      "[42,    10] loss: 0.042\n",
      "[43,    10] loss: 0.052\n",
      "[44,    10] loss: 0.036\n",
      "[45,    10] loss: 0.046\n",
      "[46,    10] loss: 0.050\n",
      "[47,    10] loss: 0.025\n",
      "[48,    10] loss: 0.030\n",
      "[49,    10] loss: 0.033\n",
      "[50,    10] loss: 0.034\n",
      "[51,    10] loss: 0.055\n",
      "[52,    10] loss: 0.044\n",
      "[53,    10] loss: 0.045\n",
      "[54,    10] loss: 0.053\n",
      "[55,    10] loss: 0.053\n",
      "[56,    10] loss: 0.043\n",
      "[57,    10] loss: 0.033\n",
      "[58,    10] loss: 0.021\n",
      "[59,    10] loss: 0.016\n",
      "[60,    10] loss: 0.032\n",
      "[61,    10] loss: 0.024\n",
      "[62,    10] loss: 0.046\n",
      "[63,    10] loss: 0.028\n",
      "[64,    10] loss: 0.032\n",
      "[65,    10] loss: 0.023\n",
      "[66,    10] loss: 0.025\n",
      "[67,    10] loss: 0.017\n",
      "[68,    10] loss: 0.016\n",
      "[69,    10] loss: 0.037\n",
      "[70,    10] loss: 0.021\n",
      "[71,    10] loss: 0.018\n",
      "[72,    10] loss: 0.020\n",
      "[73,    10] loss: 0.012\n",
      "[74,    10] loss: 0.022\n",
      "[75,    10] loss: 0.012\n",
      "[76,    10] loss: 0.013\n",
      "[77,    10] loss: 0.010\n",
      "[78,    10] loss: 0.015\n",
      "[79,    10] loss: 0.012\n",
      "[80,    10] loss: 0.025\n",
      "[81,    10] loss: 0.028\n",
      "[82,    10] loss: 0.029\n",
      "[83,    10] loss: 0.037\n",
      "[84,    10] loss: 0.023\n",
      "[85,    10] loss: 0.020\n",
      "[86,    10] loss: 0.034\n",
      "[87,    10] loss: 0.046\n",
      "[88,    10] loss: 0.052\n",
      "[89,    10] loss: 0.035\n",
      "[90,    10] loss: 0.049\n",
      "[91,    10] loss: 0.038\n",
      "[92,    10] loss: 0.042\n",
      "[93,    10] loss: 0.023\n",
      "[94,    10] loss: 0.036\n",
      "[95,    10] loss: 0.020\n",
      "[96,    10] loss: 0.012\n",
      "[97,    10] loss: 0.011\n",
      "[98,    10] loss: 0.017\n",
      "[99,    10] loss: 0.007\n",
      "[100,    10] loss: 0.010\n"
     ]
    }
   ],
   "source": [
    "model.train()\n",
    "num_epochs = 100\n",
    "for epoch in range(num_epochs):\n",
    "    running_loss = 0.0\n",
    "    for i, (inputs, labels) in enumerate(train_loader):\n",
    "        inputs, labels = inputs.cuda(), labels.cuda()\n",
    "\n",
    "        optimizer.zero_grad()\n",
    "\n",
    "       \n",
    "        outputs = model(inputs)\n",
    "        \n",
    "       \n",
    "        loss = criterion(outputs, labels)\n",
    "        \n",
    "       \n",
    "        loss.backward()\n",
    "        optimizer.step()\n",
    "\n",
    "        running_loss += loss.item()\n",
    "        if i % 10 == 9:\n",
    "            print('[%d, %5d] loss: %.3f' % (epoch + 1, i + 1, running_loss / 10))\n",
    "            running_loss = 0.0\n"
   ]
  },
  {
   "cell_type": "code",
   "execution_count": 15,
   "metadata": {},
   "outputs": [],
   "source": [
    "torch.save({\n",
    "    'epoch': epoch,\n",
    "    'model_state_dict': model.state_dict(),\n",
    "    'optimizer_state_dict': optimizer.state_dict(),\n",
    "    'loss': loss,\n",
    "}, CKPT_PATH)\n"
   ]
  },
  {
   "cell_type": "code",
   "execution_count": null,
   "metadata": {},
   "outputs": [],
   "source": [
    "def accuracy():\n",
    "    "
   ]
  }
 ],
 "metadata": {
  "kernelspec": {
   "display_name": "mgit2",
   "language": "python",
   "name": "python3"
  },
  "language_info": {
   "codemirror_mode": {
    "name": "ipython",
    "version": 3
   },
   "file_extension": ".py",
   "mimetype": "text/x-python",
   "name": "python",
   "nbconvert_exporter": "python",
   "pygments_lexer": "ipython3",
   "version": "3.9.18"
  }
 },
 "nbformat": 4,
 "nbformat_minor": 2
}
